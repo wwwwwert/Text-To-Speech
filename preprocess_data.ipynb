{
 "cells": [
  {
   "cell_type": "code",
   "execution_count": 1,
   "metadata": {},
   "outputs": [],
   "source": [
    "import json\n",
    "import os\n",
    "from dataclasses import dataclass\n",
    "from pathlib import Path\n",
    "\n",
    "import numpy as np\n",
    "import torch\n",
    "import torchaudio\n",
    "from tqdm import tqdm\n",
    "\n",
    "from features_makers import get_pitch, get_energy\n",
    "from waveglow.text import text_to_sequence\n",
    "\n",
    "%load_ext autoreload\n",
    "%autoreload 2"
   ]
  },
  {
   "cell_type": "code",
   "execution_count": 2,
   "metadata": {},
   "outputs": [],
   "source": [
    "dataset_dir = 'data/datasets/ljspeech/'"
   ]
  },
  {
   "cell_type": "code",
   "execution_count": 3,
   "metadata": {},
   "outputs": [],
   "source": [
    "@dataclass\n",
    "class TrainConfig:\n",
    "    checkpoint_path = \"./model_new\"\n",
    "    logger_path = \"./logger\"\n",
    "    mel_ground_truth = \"data/datasets/ljspeech/mels\"\n",
    "    alignment_path = \"data/datasets/ljspeech/alignments\"\n",
    "    data_path = 'data/datasets/ljspeech/train.txt'\n",
    "    energy_path = 'data/datasets/ljspeech/energies'\n",
    "    pitch_path = 'data/datasets/ljspeech/pitches'\n",
    "    wav_path = 'data/datasets/ljspeech/LJSpeech-1.1/wavs'\n",
    "    \n",
    "    wandb_project = 'fastspeech_example'\n",
    "    \n",
    "    text_cleaners = ['english_cleaners']\n",
    "\n",
    "    device = torch.device('cuda' if torch.cuda.is_available() else 'cpu')\n",
    "    device = 'cuda:0'\n",
    "\n",
    "    batch_size = 16\n",
    "    epochs = 2000\n",
    "    n_warm_up_step = 4000\n",
    "\n",
    "    learning_rate = 1e-3\n",
    "    weight_decay = 1e-6\n",
    "    grad_clip_thresh = 1.0\n",
    "    decay_step = [500000, 1000000, 2000000]\n",
    "\n",
    "    save_step = 3000\n",
    "    log_step = 5\n",
    "    clear_Time = 20\n",
    "\n",
    "    batch_expand_size = 32"
   ]
  },
  {
   "cell_type": "code",
   "execution_count": 4,
   "metadata": {},
   "outputs": [],
   "source": [
    "def process_text(train_text_path):\n",
    "    with open(train_text_path, \"r\", encoding=\"utf-8\") as f:\n",
    "        txt = []\n",
    "        for line in f.readlines():\n",
    "            txt.append(line)\n",
    "\n",
    "        return txt"
   ]
  },
  {
   "cell_type": "code",
   "execution_count": 5,
   "metadata": {},
   "outputs": [],
   "source": [
    "def make_index(train_config):\n",
    "    buffer = list()\n",
    "    text = process_text(train_config.data_path)\n",
    "\n",
    "    os.makedirs(os.path.join(\n",
    "        os.path.dirname(train_config.data_path),\n",
    "        'pitches'\n",
    "    ), exist_ok=True)\n",
    "    os.makedirs(os.path.join(\n",
    "        os.path.dirname(train_config.data_path),\n",
    "        'energies'\n",
    "    ), exist_ok=True)\n",
    "\n",
    "    filenames = []\n",
    "    for filename in Path(train_config.wav_path).iterdir():\n",
    "        filenames.append(filename.name)\n",
    "\n",
    "    i_to_filename = {i: filename for i, filename in enumerate(sorted(filenames))}\n",
    "\n",
    "    for i in tqdm(range(len(text))):\n",
    "        mel_path = os.path.join(\n",
    "            train_config.mel_ground_truth, \"ljspeech-mel-%05d.npy\" % (i + 1)\n",
    "        )\n",
    "        duration_path = os.path.join(\n",
    "            train_config.alignment_path, str(i) + \".npy\"\n",
    "        )\n",
    "\n",
    "        character = text[i][0:len(text[i]) - 1]\n",
    "        og_text = character\n",
    "        character = text_to_sequence(character, train_config.text_cleaners)\n",
    "\n",
    "        audio_name = i_to_filename[i]\n",
    "        audio_path = os.path.join(train_config.wav_path, audio_name)\n",
    "        audio, sr = torchaudio.load(audio_path)\n",
    "        audio = audio.to(torch.float64).numpy().sum(axis=0)\n",
    "\n",
    "        mel = np.load(mel_path)\n",
    "        pitch = get_pitch(mel, audio, sr)\n",
    "        pitch_path = os.path.join(\n",
    "            train_config.pitch_path, str(i) + \".npy\"\n",
    "        )\n",
    "        np.save(pitch_path, pitch)\n",
    "\n",
    "        energy = get_energy(mel)\n",
    "        energy_path = os.path.join(\n",
    "            train_config.energy_path, str(i) + \".npy\"\n",
    "        )\n",
    "        np.save(energy_path, energy)\n",
    "        \n",
    "        buffer.append({\n",
    "            \"text\": og_text,\n",
    "            \"tokens\": character, \n",
    "            \"duration_path\": duration_path,\n",
    "            \"mel_path\": mel_path,\n",
    "            \"energy_path\": energy_path,\n",
    "            \"pitch_path\": pitch_path,\n",
    "            \"audio_len\": audio.shape[0],\n",
    "            \"audio_path\": audio_path\n",
    "        })\n",
    "\n",
    "    return buffer"
   ]
  },
  {
   "cell_type": "code",
   "execution_count": 6,
   "metadata": {},
   "outputs": [
    {
     "name": "stderr",
     "output_type": "stream",
     "text": [
      "100%|██████████| 13100/13100 [42:16<00:00,  5.16it/s]\n"
     ]
    }
   ],
   "source": [
    "index = make_index(TrainConfig())"
   ]
  },
  {
   "cell_type": "code",
   "execution_count": 7,
   "metadata": {},
   "outputs": [],
   "source": [
    "index_path = 'data/datasets/ljspeech/train_index.json'\n",
    "with open(index_path, 'w') as fp:\n",
    "    json.dump(index, fp, indent=2)"
   ]
  }
 ],
 "metadata": {
  "kernelspec": {
   "display_name": "hw_env",
   "language": "python",
   "name": "python3"
  },
  "language_info": {
   "codemirror_mode": {
    "name": "ipython",
    "version": 3
   },
   "file_extension": ".py",
   "mimetype": "text/x-python",
   "name": "python",
   "nbconvert_exporter": "python",
   "pygments_lexer": "ipython3",
   "version": "3.9.7"
  }
 },
 "nbformat": 4,
 "nbformat_minor": 2
}
